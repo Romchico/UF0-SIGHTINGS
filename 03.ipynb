{
 "cells": [
  {
   "cell_type": "code",
   "execution_count": 1,
   "id": "00bed425-ed04-4327-b4c8-9e4bac34b86f",
   "metadata": {},
   "outputs": [],
   "source": [
    "import pandas as pd\n",
    "import numpy as np\n",
    "import matplotlib.pyplot as plt\n",
    "import seaborn as sns"
   ]
  },
  {
   "cell_type": "code",
   "execution_count": 2,
   "id": "bcafb59e-cbf5-4877-a052-65ac49368d63",
   "metadata": {},
   "outputs": [
    {
     "name": "stderr",
     "output_type": "stream",
     "text": [
      "C:\\Users\\Romka\\anaconda3\\lib\\site-packages\\IPython\\core\\interactiveshell.py:3444: DtypeWarning: Columns (7,11) have mixed types.Specify dtype option on import or set low_memory=False.\n",
      "  exec(code_obj, self.user_global_ns, self.user_ns)\n"
     ]
    }
   ],
   "source": [
    "ufos = pd.read_csv(\"ufo-1.csv\")"
   ]
  },
  {
   "cell_type": "code",
   "execution_count": 3,
   "id": "733183a1-aa74-495e-b3d9-437581c9e830",
   "metadata": {},
   "outputs": [
    {
     "name": "stdout",
     "output_type": "stream",
     "text": [
      "<class 'pandas.core.frame.DataFrame'>\n",
      "RangeIndex: 85904 entries, 0 to 85903\n",
      "Data columns (total 13 columns):\n",
      " #   Column                Non-Null Count  Dtype  \n",
      "---  ------                --------------  -----  \n",
      " 0   Unnamed: 0            85904 non-null  int64  \n",
      " 1   Unnamed: 0.1          85904 non-null  int64  \n",
      " 2   datetime              85904 non-null  object \n",
      " 3   city                  85893 non-null  object \n",
      " 4   state                 80270 non-null  object \n",
      " 5   country               85904 non-null  object \n",
      " 6   shape                 83293 non-null  object \n",
      " 7   duration (seconds)    85903 non-null  object \n",
      " 8   duration (hours/min)  83356 non-null  object \n",
      " 9   comments              85874 non-null  object \n",
      " 10  date posted           85904 non-null  object \n",
      " 11  latitude              85904 non-null  object \n",
      " 12  longitude             85904 non-null  float64\n",
      "dtypes: float64(1), int64(2), object(10)\n",
      "memory usage: 8.5+ MB\n"
     ]
    }
   ],
   "source": [
    "ufos.info()"
   ]
  },
  {
   "cell_type": "code",
   "execution_count": 4,
   "id": "05394750-07d8-4959-9d76-d925c226617c",
   "metadata": {},
   "outputs": [
    {
     "data": {
      "text/html": [
       "<div>\n",
       "<style scoped>\n",
       "    .dataframe tbody tr th:only-of-type {\n",
       "        vertical-align: middle;\n",
       "    }\n",
       "\n",
       "    .dataframe tbody tr th {\n",
       "        vertical-align: top;\n",
       "    }\n",
       "\n",
       "    .dataframe thead th {\n",
       "        text-align: right;\n",
       "    }\n",
       "</style>\n",
       "<table border=\"1\" class=\"dataframe\">\n",
       "  <thead>\n",
       "    <tr style=\"text-align: right;\">\n",
       "      <th></th>\n",
       "      <th>Unnamed: 0</th>\n",
       "      <th>Unnamed: 0.1</th>\n",
       "      <th>datetime</th>\n",
       "      <th>city</th>\n",
       "      <th>state</th>\n",
       "      <th>country</th>\n",
       "      <th>shape</th>\n",
       "      <th>duration (seconds)</th>\n",
       "      <th>duration (hours/min)</th>\n",
       "      <th>comments</th>\n",
       "      <th>date posted</th>\n",
       "      <th>latitude</th>\n",
       "      <th>longitude</th>\n",
       "    </tr>\n",
       "  </thead>\n",
       "  <tbody>\n",
       "    <tr>\n",
       "      <th>0</th>\n",
       "      <td>0</td>\n",
       "      <td>0</td>\n",
       "      <td>1949-10-10 20:30:00</td>\n",
       "      <td>san marcos</td>\n",
       "      <td>tx</td>\n",
       "      <td>United States</td>\n",
       "      <td>cylinder</td>\n",
       "      <td>2700</td>\n",
       "      <td>45 minutes</td>\n",
       "      <td>This event took place in early fall around 194...</td>\n",
       "      <td>4/27/2004</td>\n",
       "      <td>29.8830556</td>\n",
       "      <td>-97.941111</td>\n",
       "    </tr>\n",
       "    <tr>\n",
       "      <th>1</th>\n",
       "      <td>1</td>\n",
       "      <td>1</td>\n",
       "      <td>1949-10-10 21:00:00</td>\n",
       "      <td>lackland afb</td>\n",
       "      <td>tx</td>\n",
       "      <td>United States</td>\n",
       "      <td>light</td>\n",
       "      <td>7200</td>\n",
       "      <td>1-2 hrs</td>\n",
       "      <td>1949 Lackland AFB&amp;#44 TX.  Lights racing acros...</td>\n",
       "      <td>12/16/2005</td>\n",
       "      <td>29.38421</td>\n",
       "      <td>-98.581082</td>\n",
       "    </tr>\n",
       "    <tr>\n",
       "      <th>2</th>\n",
       "      <td>2</td>\n",
       "      <td>2</td>\n",
       "      <td>1955-10-10 17:00:00</td>\n",
       "      <td>chester</td>\n",
       "      <td>NaN</td>\n",
       "      <td>United Kingdom</td>\n",
       "      <td>circle</td>\n",
       "      <td>20</td>\n",
       "      <td>20 seconds</td>\n",
       "      <td>Green/Orange circular disc over Chester&amp;#44 En...</td>\n",
       "      <td>1/21/2008</td>\n",
       "      <td>53.2</td>\n",
       "      <td>-2.916667</td>\n",
       "    </tr>\n",
       "    <tr>\n",
       "      <th>3</th>\n",
       "      <td>3</td>\n",
       "      <td>3</td>\n",
       "      <td>1956-10-10 21:00:00</td>\n",
       "      <td>edna</td>\n",
       "      <td>tx</td>\n",
       "      <td>United States</td>\n",
       "      <td>circle</td>\n",
       "      <td>20</td>\n",
       "      <td>1/2 hour</td>\n",
       "      <td>My older brother and twin sister were leaving ...</td>\n",
       "      <td>1/17/2004</td>\n",
       "      <td>28.9783333</td>\n",
       "      <td>-96.645833</td>\n",
       "    </tr>\n",
       "    <tr>\n",
       "      <th>4</th>\n",
       "      <td>4</td>\n",
       "      <td>4</td>\n",
       "      <td>1960-10-10 20:00:00</td>\n",
       "      <td>kaneohe</td>\n",
       "      <td>hi</td>\n",
       "      <td>United States</td>\n",
       "      <td>light</td>\n",
       "      <td>900</td>\n",
       "      <td>15 minutes</td>\n",
       "      <td>AS a Marine 1st Lt. flying an FJ4B fighter/att...</td>\n",
       "      <td>1/22/2004</td>\n",
       "      <td>21.4180556</td>\n",
       "      <td>-157.803611</td>\n",
       "    </tr>\n",
       "  </tbody>\n",
       "</table>\n",
       "</div>"
      ],
      "text/plain": [
       "   Unnamed: 0  Unnamed: 0.1             datetime          city state  \\\n",
       "0           0             0  1949-10-10 20:30:00    san marcos    tx   \n",
       "1           1             1  1949-10-10 21:00:00  lackland afb    tx   \n",
       "2           2             2  1955-10-10 17:00:00      chester    NaN   \n",
       "3           3             3  1956-10-10 21:00:00          edna    tx   \n",
       "4           4             4  1960-10-10 20:00:00       kaneohe    hi   \n",
       "\n",
       "          country     shape duration (seconds) duration (hours/min)  \\\n",
       "0   United States  cylinder               2700           45 minutes   \n",
       "1   United States     light               7200              1-2 hrs   \n",
       "2  United Kingdom    circle                 20           20 seconds   \n",
       "3   United States    circle                 20             1/2 hour   \n",
       "4   United States     light                900           15 minutes   \n",
       "\n",
       "                                            comments date posted    latitude  \\\n",
       "0  This event took place in early fall around 194...   4/27/2004  29.8830556   \n",
       "1  1949 Lackland AFB&#44 TX.  Lights racing acros...  12/16/2005    29.38421   \n",
       "2  Green/Orange circular disc over Chester&#44 En...   1/21/2008        53.2   \n",
       "3  My older brother and twin sister were leaving ...   1/17/2004  28.9783333   \n",
       "4  AS a Marine 1st Lt. flying an FJ4B fighter/att...   1/22/2004  21.4180556   \n",
       "\n",
       "    longitude  \n",
       "0  -97.941111  \n",
       "1  -98.581082  \n",
       "2   -2.916667  \n",
       "3  -96.645833  \n",
       "4 -157.803611  "
      ]
     },
     "execution_count": 4,
     "metadata": {},
     "output_type": "execute_result"
    }
   ],
   "source": [
    "ufos.head()"
   ]
  },
  {
   "cell_type": "code",
   "execution_count": 5,
   "id": "dec3409c-40b2-4581-9918-98a3c8887459",
   "metadata": {},
   "outputs": [],
   "source": [
    "ufos.drop(ufos.columns[0], axis=1, inplace=True)"
   ]
  },
  {
   "cell_type": "code",
   "execution_count": 6,
   "id": "617bb2b2-fe48-4958-8947-8b51f975e710",
   "metadata": {},
   "outputs": [],
   "source": [
    "ufos.drop(ufos.columns[0], axis=1, inplace=True)"
   ]
  },
  {
   "cell_type": "code",
   "execution_count": 7,
   "id": "17121f49-1feb-4061-9592-e43029aa8b35",
   "metadata": {},
   "outputs": [
    {
     "data": {
      "text/html": [
       "<div>\n",
       "<style scoped>\n",
       "    .dataframe tbody tr th:only-of-type {\n",
       "        vertical-align: middle;\n",
       "    }\n",
       "\n",
       "    .dataframe tbody tr th {\n",
       "        vertical-align: top;\n",
       "    }\n",
       "\n",
       "    .dataframe thead th {\n",
       "        text-align: right;\n",
       "    }\n",
       "</style>\n",
       "<table border=\"1\" class=\"dataframe\">\n",
       "  <thead>\n",
       "    <tr style=\"text-align: right;\">\n",
       "      <th></th>\n",
       "      <th>datetime</th>\n",
       "      <th>city</th>\n",
       "      <th>state</th>\n",
       "      <th>country</th>\n",
       "      <th>shape</th>\n",
       "      <th>duration (seconds)</th>\n",
       "      <th>duration (hours/min)</th>\n",
       "      <th>comments</th>\n",
       "      <th>date posted</th>\n",
       "      <th>latitude</th>\n",
       "      <th>longitude</th>\n",
       "    </tr>\n",
       "  </thead>\n",
       "  <tbody>\n",
       "    <tr>\n",
       "      <th>0</th>\n",
       "      <td>1949-10-10 20:30:00</td>\n",
       "      <td>san marcos</td>\n",
       "      <td>tx</td>\n",
       "      <td>United States</td>\n",
       "      <td>cylinder</td>\n",
       "      <td>2700</td>\n",
       "      <td>45 minutes</td>\n",
       "      <td>This event took place in early fall around 194...</td>\n",
       "      <td>4/27/2004</td>\n",
       "      <td>29.8830556</td>\n",
       "      <td>-97.941111</td>\n",
       "    </tr>\n",
       "    <tr>\n",
       "      <th>1</th>\n",
       "      <td>1949-10-10 21:00:00</td>\n",
       "      <td>lackland afb</td>\n",
       "      <td>tx</td>\n",
       "      <td>United States</td>\n",
       "      <td>light</td>\n",
       "      <td>7200</td>\n",
       "      <td>1-2 hrs</td>\n",
       "      <td>1949 Lackland AFB&amp;#44 TX.  Lights racing acros...</td>\n",
       "      <td>12/16/2005</td>\n",
       "      <td>29.38421</td>\n",
       "      <td>-98.581082</td>\n",
       "    </tr>\n",
       "    <tr>\n",
       "      <th>2</th>\n",
       "      <td>1955-10-10 17:00:00</td>\n",
       "      <td>chester</td>\n",
       "      <td>NaN</td>\n",
       "      <td>United Kingdom</td>\n",
       "      <td>circle</td>\n",
       "      <td>20</td>\n",
       "      <td>20 seconds</td>\n",
       "      <td>Green/Orange circular disc over Chester&amp;#44 En...</td>\n",
       "      <td>1/21/2008</td>\n",
       "      <td>53.2</td>\n",
       "      <td>-2.916667</td>\n",
       "    </tr>\n",
       "    <tr>\n",
       "      <th>3</th>\n",
       "      <td>1956-10-10 21:00:00</td>\n",
       "      <td>edna</td>\n",
       "      <td>tx</td>\n",
       "      <td>United States</td>\n",
       "      <td>circle</td>\n",
       "      <td>20</td>\n",
       "      <td>1/2 hour</td>\n",
       "      <td>My older brother and twin sister were leaving ...</td>\n",
       "      <td>1/17/2004</td>\n",
       "      <td>28.9783333</td>\n",
       "      <td>-96.645833</td>\n",
       "    </tr>\n",
       "    <tr>\n",
       "      <th>4</th>\n",
       "      <td>1960-10-10 20:00:00</td>\n",
       "      <td>kaneohe</td>\n",
       "      <td>hi</td>\n",
       "      <td>United States</td>\n",
       "      <td>light</td>\n",
       "      <td>900</td>\n",
       "      <td>15 minutes</td>\n",
       "      <td>AS a Marine 1st Lt. flying an FJ4B fighter/att...</td>\n",
       "      <td>1/22/2004</td>\n",
       "      <td>21.4180556</td>\n",
       "      <td>-157.803611</td>\n",
       "    </tr>\n",
       "  </tbody>\n",
       "</table>\n",
       "</div>"
      ],
      "text/plain": [
       "              datetime          city state         country     shape  \\\n",
       "0  1949-10-10 20:30:00    san marcos    tx   United States  cylinder   \n",
       "1  1949-10-10 21:00:00  lackland afb    tx   United States     light   \n",
       "2  1955-10-10 17:00:00      chester    NaN  United Kingdom    circle   \n",
       "3  1956-10-10 21:00:00          edna    tx   United States    circle   \n",
       "4  1960-10-10 20:00:00       kaneohe    hi   United States     light   \n",
       "\n",
       "  duration (seconds) duration (hours/min)  \\\n",
       "0               2700           45 minutes   \n",
       "1               7200              1-2 hrs   \n",
       "2                 20           20 seconds   \n",
       "3                 20             1/2 hour   \n",
       "4                900           15 minutes   \n",
       "\n",
       "                                            comments date posted    latitude  \\\n",
       "0  This event took place in early fall around 194...   4/27/2004  29.8830556   \n",
       "1  1949 Lackland AFB&#44 TX.  Lights racing acros...  12/16/2005    29.38421   \n",
       "2  Green/Orange circular disc over Chester&#44 En...   1/21/2008        53.2   \n",
       "3  My older brother and twin sister were leaving ...   1/17/2004  28.9783333   \n",
       "4  AS a Marine 1st Lt. flying an FJ4B fighter/att...   1/22/2004  21.4180556   \n",
       "\n",
       "    longitude  \n",
       "0  -97.941111  \n",
       "1  -98.581082  \n",
       "2   -2.916667  \n",
       "3  -96.645833  \n",
       "4 -157.803611  "
      ]
     },
     "execution_count": 7,
     "metadata": {},
     "output_type": "execute_result"
    }
   ],
   "source": [
    "ufos.head()"
   ]
  },
  {
   "cell_type": "code",
   "execution_count": 19,
   "id": "23a4c39e-1b98-465c-b9ac-50cec7c34d13",
   "metadata": {},
   "outputs": [],
   "source": [
    "ufos[\"datetime\"] = pd.to_datetime(ufos['datetime'])\n",
    "ufos[\"year\"] = ufos[\"datetime\"].dt.year"
   ]
  },
  {
   "cell_type": "markdown",
   "id": "10a0dc9b-401b-4ccc-81b8-84bb681cbfda",
   "metadata": {},
   "source": [
    "## 3.2. UFOS SHAPES"
   ]
  },
  {
   "cell_type": "code",
   "execution_count": 8,
   "id": "04e84f0a-30fa-4c68-8fda-46cce2a941e4",
   "metadata": {},
   "outputs": [
    {
     "data": {
      "text/plain": [
       "dtype('O')"
      ]
     },
     "execution_count": 8,
     "metadata": {},
     "output_type": "execute_result"
    }
   ],
   "source": [
    "ufos[\"shape\"].dtype"
   ]
  },
  {
   "cell_type": "code",
   "execution_count": 9,
   "id": "2cd41002-149c-4be9-851f-a1a3ec354484",
   "metadata": {},
   "outputs": [],
   "source": [
    "ufos[\"shape\"] = pd.Series(ufos[\"shape\"], dtype=\"string\")"
   ]
  },
  {
   "cell_type": "code",
   "execution_count": 13,
   "id": "1769d600-fb4b-4c2e-89be-3888d467056d",
   "metadata": {},
   "outputs": [
    {
     "data": {
      "text/plain": [
       "light        17451\n",
       "triangle      8312\n",
       "circle        8181\n",
       "fireball      6408\n",
       "unknown       6111\n",
       "other         6043\n",
       "disk          5739\n",
       "sphere        5592\n",
       "oval          3974\n",
       "formation     2591\n",
       "cigar         2167\n",
       "changing      2071\n",
       "flash         1437\n",
       "rectangle     1384\n",
       "cylinder      1337\n",
       "diamond       1263\n",
       "chevron        989\n",
       "egg            819\n",
       "teardrop       795\n",
       "cone           354\n",
       "cross          259\n",
       "delta            8\n",
       "round            2\n",
       "crescent         2\n",
       "pyramid          1\n",
       "flare            1\n",
       "hexagon          1\n",
       "changed          1\n",
       "Name: shape, dtype: Int64"
      ]
     },
     "execution_count": 13,
     "metadata": {},
     "output_type": "execute_result"
    }
   ],
   "source": [
    "ufos[\"shape\"].value_counts()"
   ]
  },
  {
   "cell_type": "code",
   "execution_count": 16,
   "id": "4257158a-a10a-430a-9258-6ac9a98044c8",
   "metadata": {},
   "outputs": [
    {
     "data": {
      "text/plain": [
       "<AxesSubplot:xlabel='shape', ylabel='count'>"
      ]
     },
     "execution_count": 16,
     "metadata": {},
     "output_type": "execute_result"
    },
    {
     "data": {
      "image/png": "[encoded data removed]",
      "text/plain": [
       "<Figure size 1800x360 with 1 Axes>"
      ]
     },
     "metadata": {
      "needs_background": "light"
     },
     "output_type": "display_data"
    }
   ],
   "source": [
    "plt.figure(figsize=(25,5))\n",
    "sns.countplot(data=ufos, x=\"shape\", order=ufos[\"shape\"].value_counts()[:21].index)"
   ]
  },
  {
   "cell_type": "code",
   "execution_count": 21,
   "id": "7a62fd33-76d4-42b2-aed4-044aedcc6eab",
   "metadata": {},
   "outputs": [
    {
     "data": {
      "image/png": "[encoded data removed]",
      "text/plain": [
       "<Figure size 2088x720 with 3 Axes>"
      ]
     },
     "metadata": {
      "needs_background": "light"
     },
     "output_type": "display_data"
    }
   ],
   "source": [
    "fig, axes = plt.subplots(nrows=3, figsize=(29,10))\n",
    "\n",
    "sns.countplot(ax=axes[0], data=ufos, x=\"shape\", order=ufos[\"shape\"].value_counts()[:10].index)\n",
    "axes[0].set_title(\"UFO SHAPES FOR ALL YEARS\")\n",
    "\n",
    "sns.countplot(ax=axes[1], x=\"shape\", data=ufos[ufos[\"year\"].isin(list(range(2000,2014)))], order=ufos[\"shape\"][ufos[\"year\"].isin(list(range(2000,2014)))].value_counts()[:10].index)\n",
    "axes[1].set_title(\"UFO SHAPES FOR 2000-2013\")\n",
    "\n",
    "sns.countplot(ax = axes[2], data=ufos[ufos[\"year\"].isin(list(range(1990,2000)))], x=\"shape\", order=ufos[\"shape\"][ufos[\"year\"].isin(list(range(1990,2000)))].value_counts()[:10].index)\n",
    "axes[2].set_title(\"UFOS SHAPES FOR 1990-1999\")\n",
    "\n",
    "fig.suptitle(\"TOP TEN UFO SHAPES by YEARS\", fontsize=20)\n",
    "fig.subplots_adjust(wspace=1, hspace=1)\n"
   ]
  },
  {
   "cell_type": "markdown",
   "id": "45b68307-e5c2-45af-a152-2efad835724a",
   "metadata": {},
   "source": [
    "### - We can say light shape generally keeps its place as most seen shape.\n",
    "### - We can say that circle has upwards trend on the contrary triangle.\n",
    "### - We can say that fireball has also linear trend."
   ]
  },
  {
   "cell_type": "markdown",
   "id": "0b2f9258-c3a2-4c49-bf04-1689c8f7fcd3",
   "metadata": {},
   "source": [
    "## 3.3. COMMENT ANALYSIS"
   ]
  },
  {
   "cell_type": "code",
   "execution_count": 37,
   "id": "f7de6145-2bb0-40c8-a7c3-f86cc05dae02",
   "metadata": {},
   "outputs": [],
   "source": [
    "nuclear = 0\n",
    "for i in range(0,len(ufos)):\n",
    "    if \"nuclear\" in str(ufos[\"comments\"].iloc[i]).lower():\n",
    "        nuclear+=1"
   ]
  },
  {
   "cell_type": "code",
   "execution_count": 38,
   "id": "949c6ca3-857d-440f-8b88-afc5d3a0e972",
   "metadata": {},
   "outputs": [
    {
     "data": {
      "text/plain": [
       "52"
      ]
     },
     "execution_count": 38,
     "metadata": {},
     "output_type": "execute_result"
    }
   ],
   "source": [
    "nuclear"
   ]
  },
  {
   "cell_type": "code",
   "execution_count": 39,
   "id": "354f4949-f268-44b6-ae25-49b77d891e1c",
   "metadata": {},
   "outputs": [],
   "source": [
    "government = 0\n",
    "for i in range(0, len(ufos)):\n",
    "    if \"government\" in str(ufos[\"comments\"].iloc[i]).lower():\n",
    "        government+=1"
   ]
  },
  {
   "cell_type": "code",
   "execution_count": 40,
   "id": "bf16a871-1428-4366-bcf4-510ffe6fd8a3",
   "metadata": {},
   "outputs": [
    {
     "data": {
      "text/plain": [
       "33"
      ]
     },
     "execution_count": 40,
     "metadata": {},
     "output_type": "execute_result"
    }
   ],
   "source": [
    "government"
   ]
  },
  {
   "cell_type": "code",
   "execution_count": 41,
   "id": "5f5ece0e-1df5-4384-ac57-03883514922f",
   "metadata": {},
   "outputs": [],
   "source": [
    "military = 0\n",
    "for i in range(0, len(ufos)):\n",
    "    if \"military\" in str(ufos[\"comments\"].iloc[i]).lower():\n",
    "        military+=1"
   ]
  },
  {
   "cell_type": "code",
   "execution_count": 42,
   "id": "c8fe3aae-3c13-4c0b-9b96-2478d573ae62",
   "metadata": {},
   "outputs": [
    {
     "data": {
      "text/plain": [
       "381"
      ]
     },
     "execution_count": 42,
     "metadata": {},
     "output_type": "execute_result"
    }
   ],
   "source": [
    "military"
   ]
  },
  {
   "cell_type": "markdown",
   "id": "b364b7bc-0a9e-485c-86e8-396202d0eba3",
   "metadata": {
    "tags": []
   },
   "source": [
    "### - We can say that 52 comments contain \"nuclear\", 33 comments contain \"goverment\" and 381 comments contain \"military\""
   ]
  },
  {
   "cell_type": "code",
   "execution_count": 45,
   "id": "c0552b9d-0621-480f-b8f6-82b605fbd096",
   "metadata": {},
   "outputs": [],
   "source": [
    "dict_weat = {\"sunny\":0, \"cloudy\":0, \"snowy\":0, \"rainy\":0, \"foggy\":0, \"clear\":0, \"bright\":0,\n",
    "            \"overcast\":0, \"cloudless\":0}\n",
    "\n",
    "for adj in dict_weat.keys():\n",
    "    for i in range(0, len(ufos)):\n",
    "        if adj in str(ufos[\"comments\"].iloc[i]).lower():\n",
    "            dict_weat[adj] += 1\n",
    "       "
   ]
  },
  {
   "cell_type": "code",
   "execution_count": 50,
   "id": "42e2bf77-31af-4b87-809c-693fe5fc2b39",
   "metadata": {},
   "outputs": [
    {
     "data": {
      "text/plain": [
       "<BarContainer object of 9 artists>"
      ]
     },
     "execution_count": 50,
     "metadata": {},
     "output_type": "execute_result"
    },
    {
     "data": {
      "image/png": "[encoded data removed]",
      "text/plain": [
       "<Figure size 1800x360 with 1 Axes>"
      ]
     },
     "metadata": {
      "needs_background": "light"
     },
     "output_type": "display_data"
    }
   ],
   "source": [
    "weat_state = list(dict_weat.keys())\n",
    "occurence = list(dict_weat.values())\n",
    "plt.figure(figsize=(25,5))\n",
    "plt.bar(weat_state, occurence)"
   ]
  },
  {
   "cell_type": "code",
   "execution_count": 52,
   "id": "84b80a45-c5b0-4475-9d0d-46dae1102b9f",
   "metadata": {},
   "outputs": [
    {
     "data": {
      "text/plain": [
       "{'sunny': 126,\n",
       " 'cloudy': 130,\n",
       " 'snowy': 6,\n",
       " 'rainy': 7,\n",
       " 'foggy': 19,\n",
       " 'clear': 1532,\n",
       " 'bright': 14405,\n",
       " 'overcast': 64,\n",
       " 'cloudless': 64}"
      ]
     },
     "execution_count": 52,
     "metadata": {},
     "output_type": "execute_result"
    }
   ],
   "source": [
    "dict_weat"
   ]
  },
  {
   "cell_type": "markdown",
   "id": "4dd24eac-1b25-4c88-8cf9-0f248482ff43",
   "metadata": {},
   "source": [
    "### - We can say that \"bright\" and \"clear\" adjectives are occured at most between most used weather adjectives."
   ]
  },
  {
   "cell_type": "code",
   "execution_count": null,
   "id": "7bb58e51-3bf4-4941-92ff-6d2d758d7d13",
   "metadata": {},
   "outputs": [],
   "source": []
  }
 ],
 "metadata": {
  "kernelspec": {
   "display_name": "Python 3 (ipykernel)",
   "language": "python",
   "name": "python3"
  },
  "language_info": {
   "codemirror_mode": {
    "name": "ipython",
    "version": 3
   },
   "file_extension": ".py",
   "mimetype": "text/x-python",
   "name": "python",
   "nbconvert_exporter": "python",
   "pygments_lexer": "ipython3",
   "version": "3.9.7"
  }
 },
 "nbformat": 4,
 "nbformat_minor": 5
}
